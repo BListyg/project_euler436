{
 "cells": [
  {
   "cell_type": "code",
   "execution_count": 32,
   "metadata": {
    "collapsed": true
   },
   "outputs": [],
   "source": [
    "import numpy as np\n",
    "import pandas as pd\n",
    "import matplotlib as plt\n",
    "import collections"
   ]
  },
  {
   "cell_type": "code",
   "execution_count": null,
   "metadata": {
    "collapsed": true
   },
   "outputs": [],
   "source": [
    "def single_game(a,b):\n",
    "    \n",
    "        s = np.array([0,\n",
    "            np.random.uniform(high=1,low=0,size=1)])\n",
    "\n",
    "        while sum(s) < a:\n",
    "            x = np.random.uniform(1,0,1)\n",
    "            s = np.append(s,x)\n",
    "            if sum(s) > a:\n",
    "                break\n",
    "    \n",
    "        while sum(s) < b:\n",
    "            y = np.random.uniform(1,0,1)\n",
    "            s = np.append(s,y)\n",
    "            if sum(s) > b:\n",
    "                break\n",
    "            \n",
    "        if x > y:\n",
    "            return \"Player 1 Wins\"\n",
    "        \n",
    "        if y > x:\n",
    "            return \"Player 2 wins\""
   ]
  },
  {
   "cell_type": "code",
   "execution_count": 44,
   "metadata": {},
   "outputs": [
    {
     "data": {
      "text/plain": [
       "'Player 2 wins'"
      ]
     },
     "execution_count": 44,
     "metadata": {},
     "output_type": "execute_result"
    }
   ],
   "source": [
    "single_game(1,2)"
   ]
  },
  {
   "cell_type": "code",
   "execution_count": 45,
   "metadata": {},
   "outputs": [],
   "source": [
    "def unfair_wager(a,b,r):\n",
    "    def single_game(a,b):\n",
    "    \n",
    "        s = np.array([0,\n",
    "            np.random.uniform(high=1,low=0,size=1)])\n",
    "\n",
    "        while sum(s) < a:\n",
    "            x = np.random.uniform(1,0,1)\n",
    "            s = np.append(s,x)\n",
    "            if sum(s) > a:\n",
    "                break\n",
    "    \n",
    "        while sum(s) < b:\n",
    "            y = np.random.uniform(1,0,1)\n",
    "            s = np.append(s,y)\n",
    "            if sum(s) > b:\n",
    "                break\n",
    "            \n",
    "        if x > y:\n",
    "            return \"Player 1 Wins\"\n",
    "        if y > x:\n",
    "            return \"Player 2 Wins\"\n",
    "    \n",
    "    out = map(lambda x: single_game(a,b), range(r))\n",
    "\n",
    "    return out"
   ]
  },
  {
   "cell_type": "code",
   "execution_count": 47,
   "metadata": {},
   "outputs": [
    {
     "data": {
      "text/plain": [
       "['Player 1 Wins',\n",
       " 'Player 2 Wins',\n",
       " 'Player 1 Wins',\n",
       " 'Player 1 Wins',\n",
       " 'Player 2 Wins',\n",
       " 'Player 2 Wins',\n",
       " 'Player 2 Wins',\n",
       " 'Player 1 Wins',\n",
       " 'Player 1 Wins',\n",
       " 'Player 2 Wins']"
      ]
     },
     "execution_count": 47,
     "metadata": {},
     "output_type": "execute_result"
    }
   ],
   "source": [
    "unfair_wager(1,2,10)"
   ]
  },
  {
   "cell_type": "code",
   "execution_count": 48,
   "metadata": {
    "collapsed": true
   },
   "outputs": [],
   "source": [
    "def unfair_wager(a,b,r):\n",
    "    def single_game(a,b):\n",
    "    \n",
    "        s = np.array([0,\n",
    "            np.random.uniform(high=1,low=0,size=1)])\n",
    "\n",
    "        while sum(s) < a:\n",
    "            x = np.random.uniform(1,0,1)\n",
    "            s = np.append(s,x)\n",
    "            if sum(s) > a:\n",
    "                break\n",
    "    \n",
    "        while sum(s) < b:\n",
    "            y = np.random.uniform(1,0,1)\n",
    "            s = np.append(s,y)\n",
    "            if sum(s) > b:\n",
    "                break\n",
    "            \n",
    "        if x > y:\n",
    "            return \"Player 1 Wins\"\n",
    "        if y > x:\n",
    "            return \"Player 2 Wins\"\n",
    "    \n",
    "    out = map(lambda x: single_game(a,b), range(r))\n",
    "\n",
    "    return pd.value_counts(out)"
   ]
  },
  {
   "cell_type": "code",
   "execution_count": 49,
   "metadata": {},
   "outputs": [
    {
     "data": {
      "text/plain": [
       "Player 2 Wins    6\n",
       "Player 1 Wins    4\n",
       "dtype: int64"
      ]
     },
     "execution_count": 49,
     "metadata": {},
     "output_type": "execute_result"
    }
   ],
   "source": [
    "unfair_wager(1,2,10)"
   ]
  },
  {
   "cell_type": "code",
   "execution_count": 50,
   "metadata": {
    "scrolled": true
   },
   "outputs": [
    {
     "data": {
      "text/plain": [
       "Player 2 Wins    525\n",
       "Player 1 Wins    475\n",
       "dtype: int64"
      ]
     },
     "execution_count": 50,
     "metadata": {},
     "output_type": "execute_result"
    }
   ],
   "source": [
    "unfair_wager(1,2,1000)"
   ]
  },
  {
   "cell_type": "code",
   "execution_count": 51,
   "metadata": {},
   "outputs": [
    {
     "data": {
      "text/plain": [
       "Player 2 Wins    557\n",
       "Player 1 Wins    443\n",
       "dtype: int64"
      ]
     },
     "execution_count": 51,
     "metadata": {},
     "output_type": "execute_result"
    }
   ],
   "source": [
    "unfair_wager(1,3,1000)"
   ]
  }
 ],
 "metadata": {
  "kernelspec": {
   "display_name": "Python 2",
   "language": "python",
   "name": "python2"
  },
  "language_info": {
   "codemirror_mode": {
    "name": "ipython",
    "version": 2
   },
   "file_extension": ".py",
   "mimetype": "text/x-python",
   "name": "python",
   "nbconvert_exporter": "python",
   "pygments_lexer": "ipython2",
   "version": "2.7.14"
  }
 },
 "nbformat": 4,
 "nbformat_minor": 2
}
